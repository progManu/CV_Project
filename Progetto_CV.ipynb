{
  "cells": [
    {
      "cell_type": "code",
      "execution_count": 13,
      "metadata": {
        "colab": {
          "base_uri": "https://localhost:8080/"
        },
        "id": "hxhylBqejaRK",
        "outputId": "0f012b63-e5a5-47e9-f415-00fb0e22458a"
      },
      "outputs": [
        {
          "name": "stdout",
          "output_type": "stream",
          "text": [
            "cpu\n"
          ]
        }
      ],
      "source": [
        "import torch\n",
        "import torchvision\n",
        "from torchvision import transforms\n",
        "from torch.utils.data import random_split\n",
        "from PIL import Image\n",
        "import matplotlib.pyplot as plt\n",
        "# torch.manual_seed(17)\n",
        "\n",
        "device = torch.device(\"cuda\" if torch.cuda.is_available() else \"cpu\")\n",
        "\n",
        "print(device)\n",
        "\n",
        "\n",
        "# from google.colab import drive\n",
        "# drive.mount('/content/drive')\n",
        "# %cd drive/MyDrive/COMPUTER_VISION/PROJECT"
      ]
    },
    {
      "cell_type": "code",
      "execution_count": 14,
      "metadata": {
        "id": "7fSI0METB9lu"
      },
      "outputs": [],
      "source": [
        "transform = transforms.Compose([\n",
        "    # you can add other transformations in this list\n",
        "    transforms.Resize((64, 64)),\n",
        "    transforms.ToTensor(),\n",
        "    transforms.Normalize(mean = 0.4356, std=0.2399)\n",
        "])"
      ]
    },
    {
      "cell_type": "code",
      "execution_count": 15,
      "metadata": {
        "colab": {
          "base_uri": "https://localhost:8080/"
        },
        "id": "D2A1og9u85qP",
        "outputId": "beeba2af-9872-4696-8362-de98a051a56f"
      },
      "outputs": [
        {
          "name": "stdout",
          "output_type": "stream",
          "text": [
            "entire train folder: 1500, entire test folder: 2985, splitted trainset: 1275,  splitted validset: 225\n"
          ]
        }
      ],
      "source": [
        "BATCH_SIZE = 32\n",
        "\n",
        "trainset = torchvision.datasets.ImageFolder(root='CVPR2023_project_2_and_3_data/train/', transform=transform, loader=Image.open)\n",
        "\n",
        "true_train_set, validation_train_set = random_split(trainset, (0.85, 0.15))\n",
        "\n",
        "trainloader = torch.utils.data.DataLoader(true_train_set, batch_size=BATCH_SIZE, shuffle=True, pin_memory=True) # batch size of 1 because we have to crop in order to get all images to same size (64x64), also see pin_memory optin\n",
        "validloader = torch.utils.data.DataLoader(validation_train_set, batch_size=BATCH_SIZE, shuffle=False, pin_memory=True)\n",
        "\n",
        "testset = torchvision.datasets.ImageFolder(root='CVPR2023_project_2_and_3_data/test/', transform=transform, loader=Image.open)\n",
        "testloader = torch.utils.data.DataLoader(testset, batch_size=BATCH_SIZE, shuffle=False, pin_memory=True) # batch size of 1 because we have to crop in order to get all images to same size (64x64), also see pin_memory optin\n",
        "\n",
        "print(f'entire train folder: {len(trainset)}, entire test folder: {len(testset)}, splitted trainset: {len(true_train_set)},  splitted validset: {len(validation_train_set)}')"
      ]
    },
    {
      "cell_type": "code",
      "execution_count": 16,
      "metadata": {},
      "outputs": [
        {
          "data": {
            "text/plain": [
              "\"\\ntransforms = torchvision.transforms.Compose([\\n        torchvision.transforms.ToTensor(),\\n        torchvision.transforms.Normalize((0.1307,), (0.3081,))\\n])\\n\\ntrainset = torchvision.datasets.MNIST('.', transform=transforms,  train=True, download=True)\\ntrainloader = torch.utils.data.DataLoader(trainset, batch_size=32, shuffle=True)\\n\\ntestset = torchvision.datasets.MNIST('.', transform=transforms, train=False, download=True)\\nvalidloader = torch.utils.data.DataLoader(testset, batch_size=32, shuffle=False)\\n\""
            ]
          },
          "execution_count": 16,
          "metadata": {},
          "output_type": "execute_result"
        }
      ],
      "source": [
        "# abbiamo verificato che su un'altro dataset (MNIST) il training funzionasse\n",
        "'''\n",
        "transforms = torchvision.transforms.Compose([\n",
        "        torchvision.transforms.ToTensor(),\n",
        "        torchvision.transforms.Normalize((0.1307,), (0.3081,))\n",
        "])\n",
        "\n",
        "trainset = torchvision.datasets.MNIST('.', transform=transforms,  train=True, download=True)\n",
        "trainloader = torch.utils.data.DataLoader(trainset, batch_size=32, shuffle=True)\n",
        "\n",
        "testset = torchvision.datasets.MNIST('.', transform=transforms, train=False, download=True)\n",
        "validloader = torch.utils.data.DataLoader(testset, batch_size=32, shuffle=False)\n",
        "'''"
      ]
    },
    {
      "cell_type": "code",
      "execution_count": 17,
      "metadata": {
        "id": "NwX54uMRj8Dq"
      },
      "outputs": [],
      "source": [
        "class CNN(torch.nn.Module):\n",
        "    def __init__(self):\n",
        "        super().__init__()\n",
        "\n",
        "        self.conv = torch.nn.Sequential(\n",
        "                torch.nn.Conv2d(in_channels=1, out_channels=8, kernel_size=3, stride=1),\n",
        "                torch.nn.ReLU(),\n",
        "                torch.nn.MaxPool2d(kernel_size=2, stride=2),\n",
        "                torch.nn.Conv2d(in_channels=8, out_channels=16, kernel_size=3, stride=1),\n",
        "                torch.nn.ReLU(),\n",
        "                torch.nn.MaxPool2d(kernel_size=2, stride=2),\n",
        "                torch.nn.Conv2d(in_channels=16, out_channels=32, kernel_size=3, stride=1),\n",
        "                torch.nn.ReLU()\n",
        "        )\n",
        "        \n",
        "        self.classifier = torch.nn.Sequential(\n",
        "            torch.nn.Flatten(),\n",
        "            torch.nn.Linear(32*12*12, 15),\n",
        "            torch.nn.Softmax(dim=1)\n",
        "        )\n",
        "\n",
        "    def forward(self, x):\n",
        "        return self.classifier(self.conv(x))\n",
        "\n",
        "\n",
        "model = CNN().to(device)"
      ]
    },
    {
      "cell_type": "code",
      "execution_count": 18,
      "metadata": {
        "colab": {
          "base_uri": "https://localhost:8080/"
        },
        "id": "y3obLZHWY6B0",
        "outputId": "0009c383-b86f-46f8-9bbe-6c03cd6c1574"
      },
      "outputs": [
        {
          "data": {
            "text/plain": [
              "CNN(\n",
              "  (conv): Sequential(\n",
              "    (0): Conv2d(1, 8, kernel_size=(3, 3), stride=(1, 1))\n",
              "    (1): ReLU()\n",
              "    (2): MaxPool2d(kernel_size=2, stride=2, padding=0, dilation=1, ceil_mode=False)\n",
              "    (3): Conv2d(8, 16, kernel_size=(3, 3), stride=(1, 1))\n",
              "    (4): ReLU()\n",
              "    (5): MaxPool2d(kernel_size=2, stride=2, padding=0, dilation=1, ceil_mode=False)\n",
              "    (6): Conv2d(16, 32, kernel_size=(3, 3), stride=(1, 1))\n",
              "    (7): ReLU()\n",
              "  )\n",
              "  (classifier): Sequential(\n",
              "    (0): Flatten(start_dim=1, end_dim=-1)\n",
              "    (1): Linear(in_features=4608, out_features=15, bias=True)\n",
              "    (2): Softmax(dim=1)\n",
              "  )\n",
              ")"
            ]
          },
          "execution_count": 18,
          "metadata": {},
          "output_type": "execute_result"
        }
      ],
      "source": [
        "def initialize_weigths_and_bias(m):\n",
        "  if (type(m) == torch.nn.Linear) or (type(m) == torch.nn.Conv2d):\n",
        "      torch.nn.init.constant_(m.bias.data, 0) # initialize weights\n",
        "      torch.nn.init.normal_(m.weight.data, mean=0.0, std=0.01)\n",
        "  \n",
        "\n",
        "model.apply(initialize_weigths_and_bias)"
      ]
    },
    {
      "cell_type": "code",
      "execution_count": 19,
      "metadata": {
        "colab": {
          "base_uri": "https://localhost:8080/"
        },
        "id": "cSD_HNU9Y0pT",
        "outputId": "2954dc01-f31a-4c5b-e36e-748ce2a19c4b"
      },
      "outputs": [
        {
          "data": {
            "text/plain": [
              "(tensor(7.6481e-06, grad_fn=<MeanBackward0>),\n",
              " tensor(0.0100, grad_fn=<StdBackward0>),\n",
              " tensor(0., grad_fn=<MaxBackward1>))"
            ]
          },
          "execution_count": 19,
          "metadata": {},
          "output_type": "execute_result"
        }
      ],
      "source": [
        "# Checking initialization printing mean, std, max biases in the classifier fully connected layer\n",
        "\n",
        "model.classifier[1].weight.mean(), model.classifier[1].weight.std(), model.classifier[1].bias.max()"
      ]
    },
    {
      "cell_type": "code",
      "execution_count": 20,
      "metadata": {},
      "outputs": [
        {
          "data": {
            "text/plain": [
              "(tensor(0.0003, grad_fn=<MeanBackward0>),\n",
              " tensor(0.0102, grad_fn=<StdBackward0>),\n",
              " tensor(0., grad_fn=<MaxBackward1>))"
            ]
          },
          "execution_count": 20,
          "metadata": {},
          "output_type": "execute_result"
        }
      ],
      "source": [
        "# Checking initialization printing mean, std, max biases in the first convolution layer\n",
        "\n",
        "model.conv[3].weight.mean(), model.conv[3].weight.std(), model.conv[3].bias.max()"
      ]
    },
    {
      "cell_type": "code",
      "execution_count": 21,
      "metadata": {
        "id": "kDVDSCDralxo"
      },
      "outputs": [],
      "source": [
        "def get_accuracy(model, dataloader):\n",
        "    model.eval()\n",
        "    with torch.no_grad():\n",
        "        correct=0\n",
        "        for x, y in iter(dataloader):\n",
        "            x = x.to(device)\n",
        "            y = y.to(device)\n",
        "            out=model(x)\n",
        "            correct+=(torch.argmax(out, axis=1)==y).sum()\n",
        "        return correct/len(dataloader.dataset)"
      ]
    },
    {
      "cell_type": "code",
      "execution_count": 22,
      "metadata": {
        "id": "oJeJIh9GWZo_"
      },
      "outputs": [],
      "source": [
        "optimizer = torch.optim.SGD(model.parameters(), lr=0.01, momentum=0.9)\n",
        "# optimizer = torch.optim.Adam(model.parameters(), lr=0.01)\n",
        "loss = torch.nn.CrossEntropyLoss()"
      ]
    },
    {
      "cell_type": "code",
      "execution_count": 23,
      "metadata": {
        "colab": {
          "base_uri": "https://localhost:8080/",
          "height": 425
        },
        "id": "1wxmZgMMaxSr",
        "outputId": "150168a3-f7fe-4ba8-a5ee-9ce876049ab4"
      },
      "outputs": [
        {
          "name": "stdout",
          "output_type": "stream",
          "text": [
            "Epoch: 0, Test accuracy: 0.04888888821005821\n",
            "Epoch: 1, Test accuracy: 0.035555556416511536\n",
            "Epoch: 2, Test accuracy: 0.035555556416511536\n",
            "Epoch: 3, Test accuracy: 0.035555556416511536\n",
            "Epoch: 4, Test accuracy: 0.035555556416511536\n",
            "Final accuracy: 0.035555556416511536\n"
          ]
        }
      ],
      "source": [
        "epochs = 5\n",
        "losses = []\n",
        "for epoch in range(epochs):\n",
        "    print(f\"Epoch: {epoch}, Test accuracy: {get_accuracy(model, validloader)}\")\n",
        "    model.train()\n",
        "    running_loss = 0\n",
        "    for x, y in iter(trainloader):\n",
        "        x = x.to(device)\n",
        "        y = y.to(device)\n",
        "        out=model(x)\n",
        "        l=loss(out, y)\n",
        "        running_loss += l.item()\n",
        "        optimizer.zero_grad()\n",
        "        l.backward()\n",
        "        optimizer.step()\n",
        "    losses.append(running_loss/len(trainloader.dataset))\n",
        "print(f\"Final accuracy: {get_accuracy(model, validloader)}\")"
      ]
    },
    {
      "cell_type": "code",
      "execution_count": 24,
      "metadata": {
        "id": "vYZMMXkDhHmv"
      },
      "outputs": [
        {
          "data": {
            "text/plain": [
              "[<matplotlib.lines.Line2D at 0x19b293660e0>]"
            ]
          },
          "execution_count": 24,
          "metadata": {},
          "output_type": "execute_result"
        },
        {
          "data": {
            "image/png": "[encoded data removed]",
            "text/plain": [
              "<Figure size 640x480 with 1 Axes>"
            ]
          },
          "metadata": {},
          "output_type": "display_data"
        }
      ],
      "source": [
        "plt.plot(losses)"
      ]
    }
  ],
  "metadata": {
    "accelerator": "GPU",
    "colab": {
      "gpuType": "T4",
      "provenance": []
    },
    "kernelspec": {
      "display_name": "Python 3",
      "name": "python3"
    },
    "language_info": {
      "codemirror_mode": {
        "name": "ipython",
        "version": 3
      },
      "file_extension": ".py",
      "mimetype": "text/x-python",
      "name": "python",
      "nbconvert_exporter": "python",
      "pygments_lexer": "ipython3",
      "version": "3.10.9"
    }
  },
  "nbformat": 4,
  "nbformat_minor": 0
}
